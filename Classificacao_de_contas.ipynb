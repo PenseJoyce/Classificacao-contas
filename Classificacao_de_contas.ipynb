{
 "cells": [
  {
   "cell_type": "code",
   "execution_count": 45,
   "id": "fb5f8665",
   "metadata": {},
   "outputs": [],
   "source": [
    "import sqlite3\n",
    "import pandas as pd\n",
    "from datetime import date \n",
    "from datetime import datetime\n",
    "import numpy as np "
   ]
  },
  {
   "cell_type": "code",
   "execution_count": 46,
   "id": "07ad2c49",
   "metadata": {},
   "outputs": [],
   "source": [
    "#Conexão com o banco \n",
    "banco = sqlite3.connect(\"desafio-tecnico.db\")\n",
    "cur = banco.cursor()"
   ]
  },
  {
   "cell_type": "code",
   "execution_count": 47,
   "id": "882ece20",
   "metadata": {},
   "outputs": [],
   "source": [
    "# 1. Dados das Contas  \n",
    "\n",
    "query = cur.execute('''select \n",
    "\ta.id, \n",
    "\ta.account_number, \n",
    "\ta.birth, \n",
    "\ta.occupation, \n",
    "\ta.email, \n",
    "\tc.state,\t\n",
    "\tc.city,\n",
    "\tb.level\n",
    "from accounts a \n",
    "inner join address c on a.address_id = c.id \n",
    "left join levels b on a.account_number = b.account_number''').fetchall()\n"
   ]
  },
  {
   "cell_type": "code",
   "execution_count": 48,
   "id": "3698cdf8",
   "metadata": {},
   "outputs": [],
   "source": [
    "df_acc = pd.DataFrame(query, columns = ['id', 'account_number', 'birth', 'occupation', 'email', 'state', 'city', 'level'])\n"
   ]
  },
  {
   "cell_type": "code",
   "execution_count": 49,
   "id": "f95e90e2",
   "metadata": {},
   "outputs": [],
   "source": [
    "# 2. Dados dos Boletos   \n",
    "\n",
    "query = cur.execute('''select \n",
    "                        account_number,\n",
    "                        status,\n",
    "                        count(*) as count_charges, \n",
    "                        (sum(value)/100) as total_charges\n",
    "                    from charges \n",
    "                    group by account_number, status\n",
    "                    order by account_number''').fetchall()\n",
    "\n",
    "df_charge = pd.DataFrame(query, columns = ['account_number', 'status', 'count_charges', 'total_charges'])\n",
    "\n",
    "\n",
    "agp = df_charge.groupby(['account_number']).sum(numeric_only = True)\n",
    "\n",
    "tbl_charge_status = pd.merge(df_charge, agp, on='account_number')\n",
    "\n",
    "tbl_charge_status['Frequencia %'] =  round(tbl_charge_status['count_charges_x']*100/ tbl_charge_status['count_charges_y'], 2)\n"
   ]
  },
  {
   "cell_type": "code",
   "execution_count": 50,
   "id": "3aab3466",
   "metadata": {},
   "outputs": [],
   "source": [
    "tbl_charge_paid = tbl_charge_status.loc[tbl_charge_status['status'] == 'paid'].copy()\n",
    "\n",
    "tbl_charge_paid = tbl_charge_paid[['account_number', 'count_charges_x', 'total_charges_x', 'Frequencia %']]\n",
    "\n",
    "tbl_charge_paid.rename(columns = {'count_charges_x': 'count_charges_paid', 'total_charges_x': 'total_charges_paid'\\\n",
    "                                         , 'Frequencia %': 'Perc_charges_paid'}, inplace = True)\n"
   ]
  },
  {
   "cell_type": "code",
   "execution_count": 51,
   "id": "1435c3f0",
   "metadata": {},
   "outputs": [],
   "source": [
    "\n",
    "# filtrando boletos não pagos \n",
    "\n",
    "tbl_charge_unpaid = tbl_charge_status.loc[tbl_charge_status['status'] == 'unpaid'].copy()\n",
    "\n",
    "tbl_charge_unpaid = tbl_charge_unpaid[['account_number', 'count_charges_x', 'total_charges_x', 'Frequencia %']]\n",
    "\n",
    "tbl_charge_unpaid.rename(columns = {'count_charges_x': 'count_charges_unpaid', 'total_charges_x': 'total_charges_unpaid',\\\n",
    "                                'Frequencia %': 'Perc_charges_unpaid'}, inplace = True)\n"
   ]
  },
  {
   "cell_type": "code",
   "execution_count": 52,
   "id": "b68c1a84",
   "metadata": {},
   "outputs": [],
   "source": [
    "## unificando dados \n",
    "\n",
    "df_unif_charge = pd.merge(tbl_charge_unpaid, tbl_charge_paid, on='account_number', how='outer')\n",
    "    "
   ]
  },
  {
   "cell_type": "code",
   "execution_count": 53,
   "id": "91bf14fb",
   "metadata": {},
   "outputs": [],
   "source": [
    "#### 3. Dados das transacoes\n",
    "\n",
    "query = cur.execute('''select \n",
    "                    \ta.account_number, \n",
    "                    \tb.description,\n",
    "                    \tcount(a.id) as count_trans,\n",
    "                    \t(sum(a.value)/100) as total_trans\t\n",
    "                    from transactions a \n",
    "                    inner join transaction_type b on a.transaction_type_id = b.id\n",
    "                    group by a.account_number, b.description\n",
    "                    order by account_number''').fetchall()\n",
    "banco.close()\n",
    "    \n",
    "df_trans = pd.DataFrame(query, columns = ['account_number', 'description', 'count_trans', 'total_trans'])\n",
    "  \n",
    "agp = df_trans.groupby(['account_number']).sum(numeric_only = True)\n",
    "\n",
    "tbl_trans = pd.merge(df_trans, agp, on='account_number')\n",
    "\n",
    "tbl_trans['Frequencia %'] =  round(tbl_trans['count_trans_x']*100/ tbl_trans['count_trans_y'], 2)\n",
    "\n"
   ]
  },
  {
   "cell_type": "code",
   "execution_count": 54,
   "id": "d044127d",
   "metadata": {},
   "outputs": [],
   "source": [
    "# filtrando as transacoes br - boleto_recebido\n",
    " \n",
    "tbl_trans_br = tbl_trans.loc[tbl_trans['description'] == 'boleto_recebido'].copy()\n",
    "\n",
    "tbl_trans_br = tbl_trans_br[['account_number', 'total_trans_x', 'Frequencia %']]\n",
    "\n",
    "tbl_trans_br.rename(columns = {'total_trans_x': 'total_trans_blt_rec'\\\n",
    "                                         , 'Frequencia %': 'Perc_blt_rec'}, inplace = True)\n",
    "\n"
   ]
  },
  {
   "cell_type": "code",
   "execution_count": 55,
   "id": "878d7b97",
   "metadata": {},
   "outputs": [],
   "source": [
    "\n",
    "# filtrando as transacoes pxe - pix_enviado\n",
    " \n",
    "tbl_trans_pxe = tbl_trans.loc[tbl_trans['description'] == 'pix_enviado'].copy()\n",
    "\n",
    "tbl_trans_pxe = tbl_trans_pxe[['account_number', 'total_trans_x', 'Frequencia %']]\n",
    "\n",
    "tbl_trans_pxe.rename(columns = {'total_trans_x': 'total_trans_pix_env'\\\n",
    "                                         , 'Frequencia %': 'Perc_pix_env'}, inplace = True)\n",
    "\n",
    " "
   ]
  },
  {
   "cell_type": "code",
   "execution_count": 56,
   "id": "019d28cb",
   "metadata": {},
   "outputs": [],
   "source": [
    " \n",
    "# filtrando as transacoes pxr - pix_recebido\n",
    " \n",
    "tbl_trans_pxr = tbl_trans.loc[tbl_trans['description'] == 'pix_recebido'].copy()\n",
    "\n",
    "tbl_trans_pxr = tbl_trans_pxr[['account_number', 'total_trans_x', 'Frequencia %']]\n",
    "\n",
    "tbl_trans_pxr.rename(columns = {'total_trans_x': 'total_trans_pix_rec'\\\n",
    "                                         , 'Frequencia %': 'Perc_pix_rec'}, inplace = True)\n",
    "\n",
    "    "
   ]
  },
  {
   "cell_type": "code",
   "execution_count": 57,
   "id": "60bb86ac",
   "metadata": {},
   "outputs": [],
   "source": [
    "    \n",
    "## unificando dados \n",
    "\n",
    "df_unif_trans = pd.merge(tbl_trans_br, tbl_trans_pxe, on='account_number', how='outer')\n",
    "df_unif_trans = pd.merge(df_unif_trans, tbl_trans_pxr, on='account_number', how='outer')    "
   ]
  },
  {
   "cell_type": "code",
   "execution_count": 58,
   "id": "361c3300",
   "metadata": {},
   "outputs": [],
   "source": [
    "# 4. Base para realizar as previsões \n",
    "\n",
    "df = df_acc.copy()\n",
    "\n",
    "df = df[['account_number', 'level']]\n",
    "\n",
    "df = pd.merge(df, df_unif_charge, on='account_number', how='left')\n",
    "df = pd.merge(df, df_unif_trans, on='account_number', how='left')\n",
    "\n",
    "df['total_trans'] = df['total_trans_blt_rec'] + df['total_trans_pix_rec'] + df['total_trans_pix_env']\n",
    "\n",
    "del df_acc , df_unif_charge, df_unif_trans"
   ]
  },
  {
   "cell_type": "code",
   "execution_count": 59,
   "id": "9d3d23da",
   "metadata": {},
   "outputs": [],
   "source": [
    "################# MODELO ###############\n",
    "\n",
    "base = df.copy()\n",
    "base.dropna(inplace=True)\n",
    "#base.dropna(subset=['level'], inplace=True)\n",
    "\n",
    "\n",
    "prev = df.copy()     \n",
    "prev['level'] = df['level'].replace(np.nan, 0)\n",
    "prev = prev.loc[prev['level'] == 0]\n",
    "prev = prev.drop('level', axis = 1)\n",
    "\n",
    "prev_total = prev.copy()\n",
    "\n",
    "prev.dropna(inplace=True)\n",
    "\n",
    "treino = base.copy()"
   ]
  },
  {
   "cell_type": "code",
   "execution_count": 60,
   "id": "0008f1cf",
   "metadata": {},
   "outputs": [
    {
     "name": "stdout",
     "output_type": "stream",
     "text": [
      "Acurácia: 0.5544871794871795\n"
     ]
    }
   ],
   "source": [
    "#algoritmo de previsao \n",
    "\n",
    "y = treino['level']\n",
    "x = treino.drop('level', axis = 1)\n",
    "\n",
    "from sklearn.model_selection import train_test_split\n",
    "x_treino, x_teste, y_treino, y_teste = train_test_split(x, y, test_size = 0.4)\n",
    "\n",
    "from sklearn.ensemble import ExtraTreesClassifier\n",
    "modelo = ExtraTreesClassifier()\n",
    "modelo.fit(x_treino, y_treino)\n",
    "\n",
    "resultado = modelo.score(x_teste, y_teste)\n",
    "print(\"Acurácia:\", resultado)\n"
   ]
  },
  {
   "cell_type": "code",
   "execution_count": 61,
   "id": "378840e9",
   "metadata": {},
   "outputs": [],
   "source": [
    "# realizando previsao \n",
    "\n",
    "prev['level'] = modelo.predict(prev)\n",
    "prev = prev[['account_number', 'level']]\n"
   ]
  },
  {
   "cell_type": "code",
   "execution_count": 62,
   "id": "b3f40320",
   "metadata": {},
   "outputs": [],
   "source": [
    "############### Avaliando os casos restantes ############\n",
    "\n",
    "prev_total = prev_total[['account_number']]\n",
    "\n",
    "prev_total = pd.merge(prev_total, prev, on='account_number', how='left')\n",
    "prev_total['level'] = prev_total['level'].replace(np.nan, 0)\n",
    "prev_total = prev_total.loc[prev_total['level'] == 0]\n",
    "\n",
    "prev_total = prev_total.drop('level', axis = 1)\n",
    "\n",
    "df_prev_definir = prev_total.copy()\n",
    "\n",
    "df_prev_definir = pd.merge(df_prev_definir, df, on='account_number', how='left')\n"
   ]
  },
  {
   "cell_type": "code",
   "execution_count": 63,
   "id": "fc1e15d2",
   "metadata": {},
   "outputs": [],
   "source": [
    "# Casos em que o unpaid é maior que o paid é F\n",
    "\n",
    "df_prev_definir.loc[(df_prev_definir['Perc_charges_unpaid'] >= 50) \\\n",
    "                      | (df_prev_definir['Perc_charges_unpaid'] == '100'), 'level'] = 'F'   \n",
    "\n",
    "df_prev_definir = df_prev_definir[['account_number', 'level']]"
   ]
  },
  {
   "cell_type": "code",
   "execution_count": 64,
   "id": "d8794711",
   "metadata": {},
   "outputs": [],
   "source": [
    "# Casos restantes D e Casos em que não há dados D \n",
    "\n",
    "df_prev_definir['level'] = df_prev_definir['level'].replace(np.nan, 'D')"
   ]
  },
  {
   "cell_type": "code",
   "execution_count": 65,
   "id": "c3fb9e55",
   "metadata": {},
   "outputs": [],
   "source": [
    "# Resultado final \n",
    "                \n",
    "previsao_final = pd.concat([prev, df_prev_definir])"
   ]
  },
  {
   "cell_type": "code",
   "execution_count": 66,
   "id": "a326bc0e",
   "metadata": {},
   "outputs": [],
   "source": [
    "## Classificação das contas \n",
    "\n",
    "previsao_final['fraud'] = np.nan\n",
    "\n",
    "previsao_final.loc[(previsao_final['level']=='F'),'fraud'] = 1\n",
    "\n",
    "previsao_final['fraud'] = previsao_final['fraud'].replace(np.nan, 0)\n",
    "        \n",
    "previsao_final.to_csv('previsao_final.csv', index=False)"
   ]
  }
 ],
 "metadata": {
  "kernelspec": {
   "display_name": "Python 3 (ipykernel)",
   "language": "python",
   "name": "python3"
  },
  "language_info": {
   "codemirror_mode": {
    "name": "ipython",
    "version": 3
   },
   "file_extension": ".py",
   "mimetype": "text/x-python",
   "name": "python",
   "nbconvert_exporter": "python",
   "pygments_lexer": "ipython3",
   "version": "3.10.9"
  }
 },
 "nbformat": 4,
 "nbformat_minor": 5
}
